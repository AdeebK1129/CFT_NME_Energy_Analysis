{
 "cells": [
  {
   "cell_type": "code",
   "execution_count": null,
   "metadata": {},
   "outputs": [],
   "source": [
    "import pandas as pd\n",
    "import numpy as numpy\n",
    "import matplotlib.pyplot as plt"
   ]
  },
  {
   "cell_type": "code",
   "execution_count": 4,
   "metadata": {},
   "outputs": [],
   "source": [
    "# initialize data frames\n",
    "df_day_ahead_energy_price = pd.read_csv('day_ahead_energy_price.csv')\n",
    "df_generation_by_source = pd.read_csv('generation_by_source.csv')\n",
    "df_historical_power_load = pd.read_csv('historical_power_load.csv')"
   ]
  },
  {
   "cell_type": "code",
   "execution_count": null,
   "metadata": {},
   "outputs": [],
   "source": [
    "# head of day ahead energy price\n",
    "df_day_ahead_energy_price.head()"
   ]
  },
  {
   "cell_type": "code",
   "execution_count": null,
   "metadata": {},
   "outputs": [],
   "source": [
    "# Ensure the datetime column is in datetime format\n",
    "df_day_ahead_energy_price['datetime_beginning_ept'] = pd.to_datetime(df_day_ahead_energy_price['datetime_beginning_ept'])\n",
    "\n",
    "# Extract hour, day of the week, and month\n",
    "df_day_ahead_energy_price['hour'] = df_day_ahead_energy_price['datetime_beginning_ept'].dt.hour\n",
    "df_day_ahead_energy_price['day_of_week'] = df_day_ahead_energy_price['datetime_beginning_ept'].dt.dayofweek  # Monday=0, Sunday=6\n",
    "df_day_ahead_energy_price['month'] = df_day_ahead_energy_price['datetime_beginning_ept'].dt.month\n",
    "\n",
    "# Group by hour and calculate the mean system energy price\n",
    "hourly_group = df_day_ahead_energy_price.groupby('hour')['system_energy_price_da'].mean()\n",
    "\n",
    "# Plot the hourly cyclicality\n",
    "hourly_group.plot(kind='line', title='Hourly Energy Price Cyclicality', ylabel='Average Energy Price', xlabel='Hour of the Day')\n",
    "plt.show()\n",
    "\n",
    "# Group by day of the week and calculate the mean system energy price\n",
    "daily_group = df_day_ahead_energy_price.groupby('day_of_week')['system_energy_price_da'].mean()\n",
    "\n",
    "# Plot the daily cyclicality\n",
    "daily_group.plot(kind='bar', title='Daily Energy Price Cyclicality', ylabel='Average Energy Price', xlabel='Day of the Week')\n",
    "plt.xticks(ticks=range(7), labels=['Mon', 'Tue', 'Wed', 'Thu', 'Fri', 'Sat', 'Sun'])\n",
    "plt.show()\n",
    "\n",
    "# Group by month and calculate the mean system energy price\n",
    "monthly_group = df_day_ahead_energy_price.groupby('month')['system_energy_price_da'].mean()\n",
    "\n",
    "# Plot the monthly cyclicality\n",
    "monthly_group.plot(kind='bar', title='Monthly Energy Price Cyclicality', ylabel='Average Energy Price', xlabel='Month')\n",
    "plt.xticks(ticks=range(1,13), labels=['Jan', 'Feb', 'Mar', 'Apr', 'May', 'Jun', 'Jul', 'Aug', 'Sep', 'Oct', 'Nov', 'Dec'])\n",
    "plt.show()\n"
   ]
  },
  {
   "cell_type": "code",
   "execution_count": null,
   "metadata": {},
   "outputs": [],
   "source": [
    "# head of generation by source\n",
    "df_generation_by_source.head()"
   ]
  },
  {
   "cell_type": "code",
   "execution_count": null,
   "metadata": {},
   "outputs": [],
   "source": [
    "# Ensure the datetime column is in datetime format\n",
    "df_generation_by_source['datetime_beginning_ept'] = pd.to_datetime(df_generation_by_source['datetime_beginning_ept'])\n",
    "\n",
    "# Extract hour, day of the week, and month\n",
    "df_generation_by_source['hour'] = df_generation_by_source['datetime_beginning_ept'].dt.hour\n",
    "df_generation_by_source['day_of_week'] = df_generation_by_source['datetime_beginning_ept'].dt.dayofweek  # Monday=0, Sunday=6\n",
    "df_generation_by_source['month'] = df_generation_by_source['datetime_beginning_ept'].dt.month\n",
    "\n",
    "def plot_cyclicality(df, time_feature, value_column, title, ylabel, xlabel, xtick_labels=None):\n",
    "    group = df.groupby(['fuel_type', time_feature])[value_column].mean().unstack()\n",
    "    group.T.plot(kind='line', figsize=(10, 6), title=title, ylabel=ylabel, xlabel=xlabel)\n",
    "    \n",
    "    if xtick_labels:\n",
    "        plt.xticks(ticks=range(len(xtick_labels)), labels=xtick_labels)\n",
    "    \n",
    "    plt.legend(loc='center left', bbox_to_anchor=(1, 0.5))\n",
    "    plt.tight_layout()\n",
    "    plt.show()\n",
    "    \n",
    "# hourly cyclicality for each fuel type\n",
    "plot_cyclicality(df_generation_by_source, 'hour', 'mw', \n",
    "                 title='Hourly Cyclicality by Fuel Type', \n",
    "                 ylabel='Average MW', xlabel='Hour of the Day')\n",
    "\n",
    "# daily cyclicality for each fuel type\n",
    "plot_cyclicality(df_generation_by_source, 'day_of_week', 'mw', \n",
    "                 title='Daily Cyclicality by Fuel Type', \n",
    "                 ylabel='Average MW', xlabel='Day of the Week', \n",
    "                 xtick_labels=['Mon', 'Tue', 'Wed', 'Thu', 'Fri', 'Sat', 'Sun'])\n",
    "\n",
    "# monthly cyclicality for each fuel type\n",
    "plot_cyclicality(df_generation_by_source, 'month', 'mw', \n",
    "                 title='Monthly Cyclicality by Fuel Type', \n",
    "                 ylabel='Average MW', xlabel='Month', \n",
    "                 xtick_labels=['Jan', 'Feb', 'Mar', 'Apr', 'May', 'Jun', 'Jul', 'Aug', 'Sep', 'Oct', 'Nov', 'Dec'])\n",
    "\n",
    "\n",
    "# hourly cyclicality for each fuel type by percentage\n",
    "plot_cyclicality(df_generation_by_source, 'hour', 'fuel_percentage_of_total', \n",
    "                 title='Hourly Cyclicality by Fuel Type (Percentage)', \n",
    "                 ylabel='Average Percentage of Total', xlabel='Hour of the Day')\n",
    "\n",
    "# daily cyclicality for each fuel type by percentage\n",
    "plot_cyclicality(df_generation_by_source, 'day_of_week', 'fuel_percentage_of_total', \n",
    "                 title='Daily Cyclicality by Fuel Type (Percentage)', \n",
    "                 ylabel='Average Percentage of Total', xlabel='Day of the Week', \n",
    "                 xtick_labels=['Mon', 'Tue', 'Wed', 'Thu', 'Fri', 'Sat', 'Sun'])\n",
    "\n",
    "# monthly cyclicality for each fuel type by percentage\n",
    "plot_cyclicality(df_generation_by_source, 'month', 'fuel_percentage_of_total', \n",
    "                 title='Monthly Cyclicality by Fuel Type (Percentage)', \n",
    "                 ylabel='Average Percentage of Total', xlabel='Month', \n",
    "                 xtick_labels=['Jan', 'Feb', 'Mar', 'Apr', 'May', 'Jun', 'Jul', 'Aug', 'Sep', 'Oct', 'Nov', 'Dec'])"
   ]
  },
  {
   "cell_type": "code",
   "execution_count": null,
   "metadata": {},
   "outputs": [],
   "source": [
    "# head of historical power load\n",
    "df_historical_power_load.head()"
   ]
  }
 ],
 "metadata": {
  "kernelspec": {
   "display_name": "v_env",
   "language": "python",
   "name": "python3"
  },
  "language_info": {
   "codemirror_mode": {
    "name": "ipython",
    "version": 3
   },
   "file_extension": ".py",
   "mimetype": "text/x-python",
   "name": "python",
   "nbconvert_exporter": "python",
   "pygments_lexer": "ipython3",
   "version": "3.12.5"
  },
  "orig_nbformat": 4
 },
 "nbformat": 4,
 "nbformat_minor": 2
}
