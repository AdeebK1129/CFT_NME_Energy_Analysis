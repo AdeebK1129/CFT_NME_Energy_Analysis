{
 "cells": [
  {
   "cell_type": "code",
   "execution_count": 63,
   "metadata": {},
   "outputs": [],
   "source": [
    "import pandas as pd\n",
    "import numpy as numpy\n",
    "import matplotlib.pyplot as plt"
   ]
  },
  {
   "cell_type": "code",
   "execution_count": 64,
   "metadata": {},
   "outputs": [],
   "source": [
    "# initialize data frames\n",
    "df_day_ahead_energy_price = pd.read_csv('data/day_ahead_energy_price.csv')\n",
    "df_generation_by_source = pd.read_csv('data/generation_by_source.csv')\n",
    "df_historical_power_load = pd.read_csv('data/historical_power_load.csv')"
   ]
  },
  {
   "cell_type": "markdown",
   "metadata": {},
   "source": [
    "## day_ahead_energy_price price cyclicality"
   ]
  },
  {
   "cell_type": "code",
   "execution_count": null,
   "metadata": {},
   "outputs": [],
   "source": [
    "# head of day ahead energy price\n",
    "df_day_ahead_energy_price.head()"
   ]
  },
  {
   "cell_type": "markdown",
   "metadata": {},
   "source": [
    "pnode_id: PNode is a specific location on the electrical grid where prices are established for buying or selling energy.\n",
    "\n",
    "pnode_name: The name or label associated with the PNode\n",
    "\n",
    "voltage: The voltage level at the PNode. May affect energy prices because different voltage levels (e.g., high or low) can reflect varying costs of energy transmission or distribution.\n",
    "\n",
    "equipment: The type of equipment at the PNode, which might influence energy pricing due to differences in transmission efficiency or operational costs.\n",
    "\n",
    "type: Type of pricing node or equipment type, possibly indicating whether it is a generation point, load point, or transmission node.\n",
    "\n",
    "zone: The geographic or market zone in which the PNode is located. Different zones might have varying prices based on local supply and demand.\n",
    "\n",
    "system_energy_price_da: System-wide Day-Ahead energy price. Forecast price for electricity delivered the next day, across the entire energy grid system.\n",
    "\n",
    "total_lmp_da: The Total Locational Marginal Price (LMP) for the day ahead. LMP includes the system energy price plus the cost of congestion and marginal losses specific to the PNode.\n",
    "\n",
    "congestion_price_da: The portion of the LMP due to congestion costs, which arise when transmission capacity limits are reached, causing energy prices to rise in specific nodes.\n",
    "\n",
    "marginal_loss_price_da: The portion of the LMP attributable to marginal losses (i.e., the energy lost as heat during transmission). This affects the final price of electricity.\n",
    "\n",
    "row_is_current: Flag indicating whether the data row is the most recent record for this specific combination of PNode and time.\n",
    "\n",
    "version_nbr: The version number of the data record, which may indicate updates or revisions to the dataset."
   ]
  },
  {
   "cell_type": "code",
   "execution_count": null,
   "metadata": {},
   "outputs": [],
   "source": [
    "# Ensure the datetime column is in datetime format\n",
    "df_day_ahead_energy_price['datetime_beginning_ept'] = pd.to_datetime(df_day_ahead_energy_price['datetime_beginning_ept'])\n",
    "\n",
    "# Extract hour, day of the week, and month\n",
    "df_day_ahead_energy_price['hour'] = df_day_ahead_energy_price['datetime_beginning_ept'].dt.hour\n",
    "df_day_ahead_energy_price['day_of_week'] = df_day_ahead_energy_price['datetime_beginning_ept'].dt.dayofweek  # Monday=0, Sunday=6\n",
    "df_day_ahead_energy_price['month'] = df_day_ahead_energy_price['datetime_beginning_ept'].dt.month\n",
    "\n",
    "# Group by hour and calculate the mean system energy price\n",
    "hourly_group = df_day_ahead_energy_price.groupby('hour')['system_energy_price_da'].mean()\n",
    "\n",
    "# Plot the hourly cyclicality\n",
    "hourly_group.plot(kind='line', title='Hourly Energy Price Cyclicality', ylabel='Average Energy Price', xlabel='Hour of the Day')\n",
    "plt.show()\n",
    "plt.savefig('plots/hourly_energy_price_cyclicality.png')\n",
    "\n",
    "# Group by day of the week and calculate the mean system energy price\n",
    "daily_group = df_day_ahead_energy_price.groupby('day_of_week')['system_energy_price_da'].mean()\n",
    "\n",
    "# Plot the daily cyclicality\n",
    "daily_group.plot(kind='bar', title='Daily Energy Price Cyclicality', ylabel='Average Energy Price', xlabel='Day of the Week')\n",
    "plt.xticks(ticks=range(7), labels=['Mon', 'Tue', 'Wed', 'Thu', 'Fri', 'Sat', 'Sun'])\n",
    "plt.show()\n",
    "plt.savefig('plots/daily_energy_price_cyclicality.png')\n",
    "\n",
    "# Group by month and calculate the mean system energy price\n",
    "monthly_group = df_day_ahead_energy_price.groupby('month')['system_energy_price_da'].mean()\n",
    "\n",
    "# Plot the monthly cyclicality\n",
    "monthly_group.plot(kind='bar', title='Monthly Energy Price Cyclicality', ylabel='Average Energy Price', xlabel='Month')\n",
    "plt.xticks(ticks=range(1,13), labels=['Jan', 'Feb', 'Mar', 'Apr', 'May', 'Jun', 'Jul', 'Aug', 'Sep', 'Oct', 'Nov', 'Dec'])\n",
    "plt.show()\n",
    "plt.savefig('plots/monthly_energy_price_cyclicality.png')\n"
   ]
  },
  {
   "cell_type": "markdown",
   "metadata": {},
   "source": [
    "## generation_by_source net load cyclicality"
   ]
  },
  {
   "cell_type": "code",
   "execution_count": null,
   "metadata": {},
   "outputs": [],
   "source": [
    "# head of generation by source\n",
    "df_generation_by_source.head()"
   ]
  },
  {
   "cell_type": "markdown",
   "metadata": {},
   "source": [
    "fuel_type: Type of fuel used for energy generation. ('Coal', 'Gas', 'Hydro', 'Multiple Fuels', 'Nuclear', 'Oil', 'Other Renewables', 'Solar', 'Storage', 'Wind’) \n",
    "\n",
    "mw: Amount of power generated fuel type, measured in megawatts (MW). \n",
    "\n",
    "fuel_percentage_of_total: Percentage of total energy generation attributed to this specific fuel type. Contribution of each fuel source to the overall energy mix.\n",
    "\n",
    "is_renewable: A boolean flag (True/False) indicating whether the fuel type is considered renewable"
   ]
  },
  {
   "cell_type": "code",
   "execution_count": null,
   "metadata": {},
   "outputs": [],
   "source": [
    "# Ensure the datetime column is in datetime format\n",
    "df_generation_by_source['datetime_beginning_ept'] = pd.to_datetime(df_generation_by_source['datetime_beginning_ept'])\n",
    "\n",
    "# Extract hour, day of the week, and month\n",
    "df_generation_by_source['hour'] = df_generation_by_source['datetime_beginning_ept'].dt.hour\n",
    "df_generation_by_source['day_of_week'] = df_generation_by_source['datetime_beginning_ept'].dt.dayofweek  # Monday=0, Sunday=6\n",
    "df_generation_by_source['month'] = df_generation_by_source['datetime_beginning_ept'].dt.month\n",
    "\n",
    "def plot_cyclicality(df, time_feature, value_column, title, ylabel, xlabel, xtick_labels=None):\n",
    "    group = df.groupby(['fuel_type', time_feature])[value_column].mean().unstack()\n",
    "    group.T.plot(kind='line', figsize=(10, 6), title=title, ylabel=ylabel, xlabel=xlabel)\n",
    "    \n",
    "    if xtick_labels:\n",
    "        plt.xticks(ticks=range(len(xtick_labels)), labels=xtick_labels)\n",
    "    \n",
    "    plt.legend(loc='center left', bbox_to_anchor=(1, 0.5))\n",
    "    plt.tight_layout()\n",
    "    plt.show()\n",
    "    \n",
    "# hourly cyclicality for each fuel type\n",
    "plot_cyclicality(df_generation_by_source, 'hour', 'mw', \n",
    "                 title='Hourly Cyclicality by Fuel Type', \n",
    "                 ylabel='Average MW', xlabel='Hour of the Day')\n",
    "\n",
    "# daily cyclicality for each fuel type\n",
    "plot_cyclicality(df_generation_by_source, 'day_of_week', 'mw', \n",
    "                 title='Daily Cyclicality by Fuel Type', \n",
    "                 ylabel='Average MW', xlabel='Day of the Week', \n",
    "                 xtick_labels=['Mon', 'Tue', 'Wed', 'Thu', 'Fri', 'Sat', 'Sun'])\n",
    "\n",
    "# monthly cyclicality for each fuel type\n",
    "plot_cyclicality(df_generation_by_source, 'month', 'mw', \n",
    "                 title='Monthly Cyclicality by Fuel Type', \n",
    "                 ylabel='Average MW', xlabel='Month', \n",
    "                 xtick_labels=['Jan', 'Feb', 'Mar', 'Apr', 'May', 'Jun', 'Jul', 'Aug', 'Sep', 'Oct', 'Nov', 'Dec'])\n",
    "\n",
    "\n",
    "# hourly cyclicality for each fuel type by percentage\n",
    "plot_cyclicality(df_generation_by_source, 'hour', 'fuel_percentage_of_total', \n",
    "                 title='Hourly Cyclicality by Fuel Type (Percentage)', \n",
    "                 ylabel='Average Percentage of Total', xlabel='Hour of the Day')\n",
    "\n",
    "# daily cyclicality for each fuel type by percentage\n",
    "plot_cyclicality(df_generation_by_source, 'day_of_week', 'fuel_percentage_of_total', \n",
    "                 title='Daily Cyclicality by Fuel Type (Percentage)', \n",
    "                 ylabel='Average Percentage of Total', xlabel='Day of the Week', \n",
    "                 xtick_labels=['Mon', 'Tue', 'Wed', 'Thu', 'Fri', 'Sat', 'Sun'])\n",
    "\n",
    "# monthly cyclicality for each fuel type by percentage\n",
    "plot_cyclicality(df_generation_by_source, 'month', 'fuel_percentage_of_total', \n",
    "                 title='Monthly Cyclicality by Fuel Type (Percentage)', \n",
    "                 ylabel='Average Percentage of Total', xlabel='Month', \n",
    "                 xtick_labels=['Jan', 'Feb', 'Mar', 'Apr', 'May', 'Jun', 'Jul', 'Aug', 'Sep', 'Oct', 'Nov', 'Dec'])"
   ]
  },
  {
   "cell_type": "markdown",
   "metadata": {},
   "source": [
    "## historical_power_load cyclicality"
   ]
  },
  {
   "cell_type": "code",
   "execution_count": null,
   "metadata": {},
   "outputs": [],
   "source": [
    "# head of historical power load\n",
    "df_historical_power_load.head()"
   ]
  },
  {
   "cell_type": "markdown",
   "metadata": {},
   "source": [
    "evaluated_at_utc: The time in Coordinated Universal Time (UTC) when the forecast data was evaluated or generated. \n",
    "\n",
    "evaluated_at_ept: The same evaluation time as above, but in Eastern Prevailing Time (EPT), adjusted for daylight savings. \n",
    "\n",
    "forecast_hour_beginning_utc: The start of the forecasted hour in UTC. \n",
    "\n",
    "forecast_hour_beginning_ept: The same forecast hour start as above, but in EPT. \n",
    "\n",
    "forecast_area: The geographic or operational area for which the energy load is being forecasted. Different areas may have different demand profiles, influencing day-ahead prices.\n",
    "- AEP: American Electric Power – A large utility company serving parts of the Midwest and Southern U.S. within the PJM territory.\n",
    "- APS: Allegheny Power System (now part of FirstEnergy) –  Pennsylvania, Maryland, and West Virginia.\n",
    "- COMED: Commonwealth Edison – Northern Illinois, including the Chicago metropolitan area.\n",
    "- DEOK: Duke Energy Ohio/Kentucky – Southern Ohio and northern Kentucky.\n",
    "- DOM: Dominion Energy – Parts of Virginia and northeastern North Carolina.\n",
    "- DAY: Dayton Power & Light (now AES Ohio) – Serves the Dayton, Ohio area.\n",
    "- DUQ: Duquesne Light – Pittsburgh, Pennsylvania area.\n",
    "- EKPC: East Kentucky Power Cooperative – Rural areas in Kentucky.\n",
    "- ATSI: American Transmission Systems, Inc. (Subsidiary of FirstEnergy) – Parts of Ohio and Pennsylvania.\n",
    "- MIDATL: Mid-Atlantic Region (PJM) – Mid-Atlantic states like Maryland, New Jersey, and parts of Pennsylvania.\n",
    "- RTO: Regional Transmission Organization (Broader PJM grid)– All the regions under JPM operation.\n",
    "\n",
    "forecast_load_mw: The forecasted electrical load (demand) for the specified area and time, measured in megawatts (MW)."
   ]
  },
  {
   "cell_type": "code",
   "execution_count": null,
   "metadata": {},
   "outputs": [],
   "source": [
    "import pandas as pd\n",
    "import numpy as np\n",
    "import matplotlib.pyplot as plt\n",
    "\n",
    "generation_data = pd.read_csv('data/generation_by_source.csv')\n",
    "load_data = pd.read_csv('data/historical_power_load.csv')\n",
    "\n",
    "# We display rows of each dataset to understand their structure\n",
    "\n",
    "# Now convert the datetime columns to objects for them to align and merge\n",
    "generation_data.head(), load_data.head()\n",
    "generation_data['datetime_beginning_utc'] = pd.to_datetime(generation_data['datetime_beginning_utc']) \n",
    "load_data['forecast_hour_beginning_utc'] = pd.to_datetime(load_data['forecast_hour_beginning_utc'])\n",
    "\n",
    "# Filter the generation data to only include renewable sources (is_renewable == True)\n",
    "renewable_generation = generation_data[generation_data['is_renewable']]\n",
    "renewable_generation_agg = renewable_generation.groupby('datetime_beginning_utc')['mw'].sum().reset_index() # by hour\n",
    "clean_data = pd.merge(load_data, renewable_generation_agg, left_on='forecast_hour_beginning_utc', right_on='datetime_beginning_utc', how='left') # Merge the renewable generation data with the load data\n",
    "clean_data['mw'].fillna(0, inplace=True)\n",
    "\n",
    "clean_data['net_load_mw'] = clean_data['forecast_load_mw'] - clean_data['mw'] # Calculate the net load as total load minus renewable generation\n",
    "\n",
    "net_load_data = clean_data[['forecast_hour_beginning_utc', 'forecast_load_mw', 'mw', 'net_load_mw']]\n",
    "output_path = 'output_data/net_load_data.csv'\n",
    "net_load_data.to_csv(output_path, index=False)\n",
    "print(net_load_data.head())\n",
    "\n",
    "# Plot net load\n",
    "plt.figure(figsize=(30, 6))\n",
    "plt.plot(net_load_data['forecast_hour_beginning_utc'], net_load_data['net_load_mw'], label='Net Load (MW)', color='red')\n",
    "\n",
    "#details\n",
    "plt.title('Net Load over time')\n",
    "plt.xlabel('Time (hours)')\n",
    "plt.ylabel('Net Load of Power (MegaW)')\n",
    "plt.xticks(rotation=45)\n",
    "plt.grid(True)\n",
    "plt.legend()\n",
    "plt.tight_layout()\n",
    "\n",
    "plt.savefig('plots/net_load_plot.png')  \n",
    "# # # # # # # # # # # # # # # # # # # # # # # # # # # # # # # # # # # # # # # # # # \n",
    "# PART (2) ANALYSING THE CYCLICALITY OF THIS METRIC\n",
    "# # # # # # # # # # # # # # # # # # # # # # # # # # # # # # # # # # # # # # # # # #\n",
    "\n",
    "net_load_file_path = 'output_data/net_load_data.csv'\n",
    "net_load_data = pd.read_csv(net_load_file_path)\n",
    "\n",
    "# Convert datetime column to object\n",
    "net_load_data['forecast_hour_beginning_utc'] = pd.to_datetime(net_load_data['forecast_hour_beginning_utc'])\n",
    "net_load_data.set_index('forecast_hour_beginning_utc', inplace=True)\n",
    "daily_net_load = net_load_data['net_load_mw'].resample('D').mean()\n",
    "\n",
    "#autocorrelation part to analyze cyclicality\n",
    "def autocorrelation(x, lag):\n",
    "    return np.corrcoef(x[:-lag], x[lag:])[0, 1]\n",
    "lags = np.arange(1, 31)\n",
    "autocorrelations = [autocorrelation(daily_net_load.values, lag) for lag in lags]\n",
    "\n",
    "# We plot the values\n",
    "plt.figure(figsize=(10, 6))\n",
    "plt.stem(lags, autocorrelations)\n",
    "plt.title('Autocorrelation of Daily Net Load (Cyclicality Analysis)')\n",
    "plt.xlabel('Lag (days)')\n",
    "plt.ylabel('Autocorrelation')\n",
    "plt.grid(True)\n",
    "\n",
    "plt.savefig('plots/cyclic_plot.png') "
   ]
  },
  {
   "cell_type": "markdown",
   "metadata": {},
   "source": [
    "## Net load and power price correlation"
   ]
  }
 ],
 "metadata": {
  "kernelspec": {
   "display_name": "base",
   "language": "python",
   "name": "python3"
  },
  "language_info": {
   "codemirror_mode": {
    "name": "ipython",
    "version": 3
   },
   "file_extension": ".py",
   "mimetype": "text/x-python",
   "name": "python",
   "nbconvert_exporter": "python",
   "pygments_lexer": "ipython3",
   "version": "3.10.9"
  },
  "orig_nbformat": 4
 },
 "nbformat": 4,
 "nbformat_minor": 2
}
