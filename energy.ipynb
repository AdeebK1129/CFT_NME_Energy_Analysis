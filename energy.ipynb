{
 "cells": [
  {
   "cell_type": "code",
   "execution_count": 1,
   "metadata": {},
   "outputs": [],
   "source": [
    "import pandas as pd\n",
    "import numpy as numpy\n",
    "import matplotlib.pyplot as plt"
   ]
  },
  {
   "cell_type": "code",
   "execution_count": 2,
   "metadata": {},
   "outputs": [],
   "source": [
    "# initialize data frames\n",
    "df_day_ahead_energy_price = pd.read_csv('data/day_ahead_energy_price.csv')\n",
    "df_generation_by_source = pd.read_csv('data/generation_by_source.csv')\n",
    "df_historical_power_load = pd.read_csv('data/historical_power_load.csv')"
   ]
  },
  {
   "cell_type": "markdown",
   "metadata": {},
   "source": [
    "## day_ahead_energy_price price cyclicality"
   ]
  },
  {
   "cell_type": "code",
   "execution_count": null,
   "metadata": {},
   "outputs": [],
   "source": [
    "# head of day ahead energy price\n",
    "df_day_ahead_energy_price.head()"
   ]
  },
  {
   "cell_type": "markdown",
   "metadata": {},
   "source": [
    "pnode_id: PNode is a specific location on the electrical grid where prices are established for buying or selling energy.\n",
    "\n",
    "pnode_name: The name or label associated with the PNode\n",
    "\n",
    "voltage: The voltage level at the PNode. May affect energy prices because different voltage levels (e.g., high or low) can reflect varying costs of energy transmission or distribution.\n",
    "\n",
    "equipment: The type of equipment at the PNode, which might influence energy pricing due to differences in transmission efficiency or operational costs.\n",
    "\n",
    "type: Type of pricing node or equipment type, possibly indicating whether it is a generation point, load point, or transmission node.\n",
    "\n",
    "zone: The geographic or market zone in which the PNode is located. Different zones might have varying prices based on local supply and demand.\n",
    "\n",
    "system_energy_price_da: System-wide Day-Ahead energy price. Forecast price for electricity delivered the next day, across the entire energy grid system.\n",
    "\n",
    "total_lmp_da: The Total Locational Marginal Price (LMP) for the day ahead. LMP includes the system energy price plus the cost of congestion and marginal losses specific to the PNode.\n",
    "\n",
    "congestion_price_da: The portion of the LMP due to congestion costs, which arise when transmission capacity limits are reached, causing energy prices to rise in specific nodes.\n",
    "\n",
    "marginal_loss_price_da: The portion of the LMP attributable to marginal losses (i.e., the energy lost as heat during transmission). This affects the final price of electricity.\n",
    "\n",
    "row_is_current: Flag indicating whether the data row is the most recent record for this specific combination of PNode and time.\n",
    "\n",
    "version_nbr: The version number of the data record, which may indicate updates or revisions to the dataset."
   ]
  },
  {
   "cell_type": "code",
   "execution_count": null,
   "metadata": {},
   "outputs": [],
   "source": [
    "# Ensure the datetime column is in datetime format\n",
    "df_day_ahead_energy_price['datetime_beginning_ept'] = pd.to_datetime(df_day_ahead_energy_price['datetime_beginning_ept'])\n",
    "\n",
    "# Extract hour, day of the week, and month\n",
    "df_day_ahead_energy_price['hour'] = df_day_ahead_energy_price['datetime_beginning_ept'].dt.hour\n",
    "df_day_ahead_energy_price['day_of_week'] = df_day_ahead_energy_price['datetime_beginning_ept'].dt.dayofweek  # Monday=0, Sunday=6\n",
    "df_day_ahead_energy_price['month'] = df_day_ahead_energy_price['datetime_beginning_ept'].dt.month\n",
    "\n",
    "# Group by hour and calculate the mean system energy price\n",
    "hourly_group = df_day_ahead_energy_price.groupby('hour')['system_energy_price_da'].mean()\n",
    "\n",
    "# Plot the hourly cyclicality\n",
    "hourly_group.plot(kind='line', title='Hourly Energy Price Cyclicality', ylabel='Average Energy Price', xlabel='Hour of the Day')\n",
    "plt.show()\n",
    "plt.savefig('plots/hourly_energy_price_cyclicality.png')\n",
    "\n",
    "# Group by day of the week and calculate the mean system energy price\n",
    "daily_group = df_day_ahead_energy_price.groupby('day_of_week')['system_energy_price_da'].mean()\n",
    "\n",
    "# Plot the daily cyclicality\n",
    "daily_group.plot(kind='bar', title='Daily Energy Price Cyclicality', ylabel='Average Energy Price', xlabel='Day of the Week')\n",
    "plt.xticks(ticks=range(7), labels=['Mon', 'Tue', 'Wed', 'Thu', 'Fri', 'Sat', 'Sun'])\n",
    "plt.show()\n",
    "plt.savefig('plots/daily_energy_price_cyclicality.png')\n",
    "\n",
    "# Group by month and calculate the mean system energy price\n",
    "monthly_group = df_day_ahead_energy_price.groupby('month')['system_energy_price_da'].mean()\n",
    "\n",
    "# Plot the monthly cyclicality\n",
    "monthly_group.plot(kind='bar', title='Monthly Energy Price Cyclicality', ylabel='Average Energy Price', xlabel='Month')\n",
    "plt.xticks(ticks=range(1,13), labels=['Jan', 'Feb', 'Mar', 'Apr', 'May', 'Jun', 'Jul', 'Aug', 'Sep', 'Oct', 'Nov', 'Dec'])\n",
    "plt.show()\n",
    "plt.savefig('plots/monthly_energy_price_cyclicality.png')\n"
   ]
  },
  {
   "cell_type": "markdown",
   "metadata": {},
   "source": [
    "## generation_by_source net load cyclicality"
   ]
  },
  {
   "cell_type": "code",
   "execution_count": null,
   "metadata": {},
   "outputs": [],
   "source": [
    "# head of generation by source\n",
    "df_generation_by_source.head()"
   ]
  },
  {
   "cell_type": "markdown",
   "metadata": {},
   "source": [
    "fuel_type: Type of fuel used for energy generation. ('Coal', 'Gas', 'Hydro', 'Multiple Fuels', 'Nuclear', 'Oil', 'Other Renewables', 'Solar', 'Storage', 'Wind’) \n",
    "\n",
    "mw: Amount of power generated fuel type, measured in megawatts (MW). \n",
    "\n",
    "fuel_percentage_of_total: Percentage of total energy generation attributed to this specific fuel type. Contribution of each fuel source to the overall energy mix.\n",
    "\n",
    "is_renewable: A boolean flag (True/False) indicating whether the fuel type is considered renewable"
   ]
  },
  {
   "cell_type": "code",
   "execution_count": null,
   "metadata": {},
   "outputs": [],
   "source": [
    "# Ensure the datetime column is in datetime format\n",
    "df_generation_by_source['datetime_beginning_ept'] = pd.to_datetime(df_generation_by_source['datetime_beginning_ept'])\n",
    "\n",
    "# Extract hour, day of the week, and month\n",
    "df_generation_by_source['hour'] = df_generation_by_source['datetime_beginning_ept'].dt.hour\n",
    "df_generation_by_source['day_of_week'] = df_generation_by_source['datetime_beginning_ept'].dt.dayofweek  # Monday=0, Sunday=6\n",
    "df_generation_by_source['month'] = df_generation_by_source['datetime_beginning_ept'].dt.month\n",
    "\n",
    "def plot_cyclicality(df, time_feature, value_column, title, ylabel, xlabel, xtick_labels=None):\n",
    "    group = df.groupby(['fuel_type', time_feature])[value_column].mean().unstack()\n",
    "    group.T.plot(kind='line', figsize=(10, 6), title=title, ylabel=ylabel, xlabel=xlabel)\n",
    "    \n",
    "    if xtick_labels:\n",
    "        plt.xticks(ticks=range(len(xtick_labels)), labels=xtick_labels)\n",
    "    \n",
    "    plt.legend(loc='center left', bbox_to_anchor=(1, 0.5))\n",
    "    plt.tight_layout()\n",
    "    plt.show()\n",
    "    \n",
    "# hourly cyclicality for each fuel type\n",
    "plot_cyclicality(df_generation_by_source, 'hour', 'mw', \n",
    "                 title='Hourly Cyclicality by Fuel Type', \n",
    "                 ylabel='Average MW', xlabel='Hour of the Day')\n",
    "\n",
    "# daily cyclicality for each fuel type\n",
    "plot_cyclicality(df_generation_by_source, 'day_of_week', 'mw', \n",
    "                 title='Daily Cyclicality by Fuel Type', \n",
    "                 ylabel='Average MW', xlabel='Day of the Week', \n",
    "                 xtick_labels=['Mon', 'Tue', 'Wed', 'Thu', 'Fri', 'Sat', 'Sun'])\n",
    "\n",
    "# monthly cyclicality for each fuel type\n",
    "plot_cyclicality(df_generation_by_source, 'month', 'mw', \n",
    "                 title='Monthly Cyclicality by Fuel Type', \n",
    "                 ylabel='Average MW', xlabel='Month', \n",
    "                 xtick_labels=['Jan', 'Feb', 'Mar', 'Apr', 'May', 'Jun', 'Jul', 'Aug', 'Sep', 'Oct', 'Nov', 'Dec'])\n",
    "\n",
    "\n",
    "# hourly cyclicality for each fuel type by percentage\n",
    "plot_cyclicality(df_generation_by_source, 'hour', 'fuel_percentage_of_total', \n",
    "                 title='Hourly Cyclicality by Fuel Type (Percentage)', \n",
    "                 ylabel='Average Percentage of Total', xlabel='Hour of the Day')\n",
    "\n",
    "# daily cyclicality for each fuel type by percentage\n",
    "plot_cyclicality(df_generation_by_source, 'day_of_week', 'fuel_percentage_of_total', \n",
    "                 title='Daily Cyclicality by Fuel Type (Percentage)', \n",
    "                 ylabel='Average Percentage of Total', xlabel='Day of the Week', \n",
    "                 xtick_labels=['Mon', 'Tue', 'Wed', 'Thu', 'Fri', 'Sat', 'Sun'])\n",
    "\n",
    "# monthly cyclicality for each fuel type by percentage\n",
    "plot_cyclicality(df_generation_by_source, 'month', 'fuel_percentage_of_total', \n",
    "                 title='Monthly Cyclicality by Fuel Type (Percentage)', \n",
    "                 ylabel='Average Percentage of Total', xlabel='Month', \n",
    "                 xtick_labels=['Jan', 'Feb', 'Mar', 'Apr', 'May', 'Jun', 'Jul', 'Aug', 'Sep', 'Oct', 'Nov', 'Dec'])"
   ]
  },
  {
   "cell_type": "markdown",
   "metadata": {},
   "source": [
    "## historical_power_load cyclicality"
   ]
  },
  {
   "cell_type": "code",
   "execution_count": null,
   "metadata": {},
   "outputs": [],
   "source": [
    "# head of historical power load\n",
    "df_historical_power_load.head()"
   ]
  },
  {
   "cell_type": "markdown",
   "metadata": {},
   "source": [
    "evaluated_at_utc: The time in Coordinated Universal Time (UTC) when the forecast data was evaluated or generated. \n",
    "\n",
    "evaluated_at_ept: The same evaluation time as above, but in Eastern Prevailing Time (EPT), adjusted for daylight savings. \n",
    "\n",
    "forecast_hour_beginning_utc: The start of the forecasted hour in UTC. \n",
    "\n",
    "forecast_hour_beginning_ept: The same forecast hour start as above, but in EPT. \n",
    "\n",
    "forecast_area: The geographic or operational area for which the energy load is being forecasted. Different areas may have different demand profiles, influencing day-ahead prices.\n",
    "- AEP: American Electric Power – A large utility company serving parts of the Midwest and Southern U.S. within the PJM territory.\n",
    "- APS: Allegheny Power System (now part of FirstEnergy) –  Pennsylvania, Maryland, and West Virginia.\n",
    "- COMED: Commonwealth Edison – Northern Illinois, including the Chicago metropolitan area.\n",
    "- DEOK: Duke Energy Ohio/Kentucky – Southern Ohio and northern Kentucky.\n",
    "- DOM: Dominion Energy – Parts of Virginia and northeastern North Carolina.\n",
    "- DAY: Dayton Power & Light (now AES Ohio) – Serves the Dayton, Ohio area.\n",
    "- DUQ: Duquesne Light – Pittsburgh, Pennsylvania area.\n",
    "- EKPC: East Kentucky Power Cooperative – Rural areas in Kentucky.\n",
    "- ATSI: American Transmission Systems, Inc. (Subsidiary of FirstEnergy) – Parts of Ohio and Pennsylvania.\n",
    "- MIDATL: Mid-Atlantic Region (PJM) – Mid-Atlantic states like Maryland, New Jersey, and parts of Pennsylvania.\n",
    "- RTO: Regional Transmission Organization (Broader PJM grid)– All the regions under JPM operation.\n",
    "\n",
    "forecast_load_mw: The forecasted electrical load (demand) for the specified area and time, measured in megawatts (MW)."
   ]
  },
  {
   "cell_type": "code",
   "execution_count": null,
   "metadata": {},
   "outputs": [],
   "source": [
    "import pandas as pd\n",
    "import numpy as np\n",
    "import matplotlib.pyplot as plt\n",
    "\n",
    "generation_data = pd.read_csv('data/generation_by_source.csv')\n",
    "load_data = pd.read_csv('data/historical_power_load.csv')\n",
    "\n",
    "# We display rows of each dataset to understand their structure\n",
    "\n",
    "# Now convert the datetime columns to objects for them to align and merge\n",
    "generation_data.head(), load_data.head()\n",
    "generation_data['datetime_beginning_utc'] = pd.to_datetime(generation_data['datetime_beginning_utc']) \n",
    "load_data['forecast_hour_beginning_utc'] = pd.to_datetime(load_data['forecast_hour_beginning_utc'])\n",
    "\n",
    "# Filter the generation data to only include renewable sources (is_renewable == True)\n",
    "renewable_generation = generation_data[generation_data['is_renewable']]\n",
    "renewable_generation_agg = renewable_generation.groupby('datetime_beginning_utc')['mw'].sum().reset_index() # by hour\n",
    "clean_data = pd.merge(load_data, renewable_generation_agg, left_on='forecast_hour_beginning_utc', right_on='datetime_beginning_utc', how='left') # Merge the renewable generation data with the load data\n",
    "clean_data['mw'].fillna(0, inplace=True)\n",
    "\n",
    "clean_data['net_load_mw'] = clean_data['forecast_load_mw'] - clean_data['mw'] # Calculate the net load as total load minus renewable generation\n",
    "\n",
    "net_load_data = clean_data[['forecast_hour_beginning_utc', 'forecast_load_mw', 'mw', 'net_load_mw']]\n",
    "output_path = 'output_data/net_load_data.csv'\n",
    "net_load_data.to_csv(output_path, index=False)\n",
    "print(net_load_data.head())\n",
    "\n",
    "# Plot net load\n",
    "plt.figure(figsize=(30, 6))\n",
    "plt.plot(net_load_data['forecast_hour_beginning_utc'], net_load_data['net_load_mw'], label='Net Load (MW)', color='red')\n",
    "\n",
    "#details\n",
    "plt.title('Net Load over time')\n",
    "plt.xlabel('Time (hours)')\n",
    "plt.ylabel('Net Load of Power (MegaW)')\n",
    "plt.xticks(rotation=45)\n",
    "plt.grid(True)\n",
    "plt.legend()\n",
    "plt.tight_layout()\n",
    "\n",
    "plt.savefig('plots/net_load_plot.png')  \n",
    "# # # # # # # # # # # # # # # # # # # # # # # # # # # # # # # # # # # # # # # # # # \n",
    "# PART (2) ANALYSING THE CYCLICALITY OF THIS METRIC\n",
    "# # # # # # # # # # # # # # # # # # # # # # # # # # # # # # # # # # # # # # # # # #\n",
    "\n",
    "net_load_file_path = 'output_data/net_load_data.csv'\n",
    "net_load_data = pd.read_csv(net_load_file_path)\n",
    "\n",
    "# Convert datetime column to object\n",
    "net_load_data['forecast_hour_beginning_utc'] = pd.to_datetime(net_load_data['forecast_hour_beginning_utc'])\n",
    "net_load_data.set_index('forecast_hour_beginning_utc', inplace=True)\n",
    "daily_net_load = net_load_data['net_load_mw'].resample('D').mean()\n",
    "\n",
    "#autocorrelation part to analyze cyclicality\n",
    "def autocorrelation(x, lag):\n",
    "    return np.corrcoef(x[:-lag], x[lag:])[0, 1]\n",
    "lags = np.arange(1, 31)\n",
    "autocorrelations = [autocorrelation(daily_net_load.values, lag) for lag in lags]\n",
    "\n",
    "# We plot the values\n",
    "plt.figure(figsize=(10, 6))\n",
    "plt.stem(lags, autocorrelations)\n",
    "plt.title('Autocorrelation of Daily Net Load (Cyclicality Analysis)')\n",
    "plt.xlabel('Lag (days)')\n",
    "plt.ylabel('Autocorrelation')\n",
    "plt.grid(True)\n",
    "\n",
    "plt.savefig('plots/cyclic_plot.png') "
   ]
  },
  {
   "cell_type": "markdown",
   "metadata": {},
   "source": [
    "## Net load and power price correlation"
   ]
  },
  {
   "cell_type": "code",
   "execution_count": 9,
   "metadata": {},
   "outputs": [],
   "source": [
    "df_day_ahead_energy_price = pd.read_csv('data/day_ahead_energy_price.csv')\n",
    "df_day_ahead_energy_price['datetime_beginning_ept'] = pd.to_datetime(df_day_ahead_energy_price['datetime_beginning_ept'])\n",
    "\n",
    "df_generation_by_source = pd.read_csv('data/generation_by_source.csv')\n",
    "df_generation_by_source['datetime_beginning_ept'] = pd.to_datetime(df_generation_by_source['datetime_beginning_ept'])\n",
    "\n",
    "df_historical_power_load = pd.read_csv('data/historical_power_load.csv')\n",
    "df_historical_power_load['forecast_hour_beginning_ept'] = pd.to_datetime(df_historical_power_load['forecast_hour_beginning_ept'])\n",
    "\n",
    "plot_dir = 'plots/net_load_vs_energy_price_plots/'"
   ]
  },
  {
   "cell_type": "markdown",
   "metadata": {},
   "source": [
    "#### Preprocessing to make net load data int EPT time and regional forecast_area"
   ]
  },
  {
   "cell_type": "code",
   "execution_count": 10,
   "metadata": {},
   "outputs": [],
   "source": [
    "# Making net load data EPT\n",
    "# Filter the generation data to only include renewable sources (is_renewable == True)\n",
    "renewable_generation = df_generation_by_source[df_generation_by_source['is_renewable']]\n",
    "renewable_generation_agg = renewable_generation.groupby('datetime_beginning_ept')['mw'].sum().reset_index()  # total renewable energy generated per hour\n",
    "clean_data = pd.merge(df_historical_power_load, renewable_generation_agg, left_on='forecast_hour_beginning_ept',right_on='datetime_beginning_ept', how='left')  # Merge the renewable generation data with the load data\n",
    "clean_data['mw'].fillna(0, inplace=True)\n",
    "\n",
    "# Calculate the net load as total load minus renewable generation\n",
    "clean_data['net_load_mw'] = clean_data['forecast_load_mw'] - clean_data['mw']\n",
    "\n",
    "net_load_data = clean_data[['forecast_hour_beginning_ept', 'forecast_load_mw', 'mw', 'net_load_mw', 'forecast_area']]\n",
    "net_load_data.to_csv('output_data/net_load_data_ept.csv', index=False)\n",
    "\n",
    "df_net_load_data = pd.read_csv('output_data/net_load_data_ept.csv')\n",
    "df_net_load_data['forecast_hour_beginning_ept'] = pd.to_datetime(df_net_load_data['forecast_hour_beginning_ept'])  # net load = load - renewable"
   ]
  },
  {
   "cell_type": "code",
   "execution_count": null,
   "metadata": {},
   "outputs": [],
   "source": [
    "df_net_load_data.head()"
   ]
  },
  {
   "cell_type": "code",
   "execution_count": null,
   "metadata": {},
   "outputs": [],
   "source": [
    "df_day_ahead_energy_price.head()"
   ]
  },
  {
   "cell_type": "code",
   "execution_count": null,
   "metadata": {},
   "outputs": [],
   "source": [
    "# Merge the net load data with the day ahead energy price data based on the datetime\n",
    "merged_load_price = pd.merge(df_day_ahead_energy_price, df_net_load_data, left_on='datetime_beginning_ept', right_on='forecast_hour_beginning_ept', how='inner')\n",
    "merged_load_price.head()\n",
    "\n",
    "#merged_load_price.set_index('datetime_beginning_ept', inplace=True)"
   ]
  },
  {
   "cell_type": "code",
   "execution_count": 14,
   "metadata": {},
   "outputs": [],
   "source": [
    "merged_load_price['month'] = merged_load_price['datetime_beginning_ept'].dt.month\n",
    "merged_load_price['hour'] = merged_load_price['datetime_beginning_ept'].dt.hour\n",
    "merged_load_price['day_of_week'] = merged_load_price['datetime_beginning_ept'].dt.dayofweek\n",
    "\n",
    "def plot_load_vs_price(period='month'):\n",
    "    \n",
    "    c = merged_load_price[period].astype('category').cat.codes\n",
    "    cmap = plt.get_cmap('viridis')\n",
    "            \n",
    "    plt.figure(figsize=(12, 6))\n",
    "    plt.scatter(merged_load_price[['net_load_mw']], merged_load_price['system_energy_price_da'], c=c, cmap=cmap, alpha=0.5)\n",
    "    plt.title(f'Net Load vs. System Energy Price by {period}')\n",
    "    plt.xlabel('Net Load (MW)')\n",
    "    plt.ylabel('System Energy Price (USD)')\n",
    "    plt.grid()\n",
    "    plt.tight_layout()\n",
    "    \n",
    "    unique_categories = np.unique(c)\n",
    "    handles = [plt.Line2D([0], [0], marker='o', color='w', markerfacecolor=cmap(i / len(unique_categories)), markersize=10) for i in unique_categories]\n",
    "    months = {1: 'Jan', 2: 'Feb', 3: 'Mar', 4: 'Apr', 5: 'May', 6: 'Jun', 7: 'Jul', 8: 'Aug', 9: 'Sep', 10: 'Oct', 11: 'Nov', 12: 'Dec'}\n",
    "    days = {0: 'Mon', 1: 'Tue', 2: 'Wed', 3: 'Thu', 4: 'Fri', 5: 'Sat', 6: 'Sun'}\n",
    "    labels = merged_load_price[period].astype('category').cat.categories\n",
    "    labels = labels.map(months if period == 'month' else days) if period in ['month', 'day_of_week'] else labels\n",
    "    plt.legend(handles, labels, title=period.capitalize(),bbox_to_anchor=(1.005, 1), loc='upper left')\n",
    "\n",
    "    plt.savefig(f'{plot_dir}net_load_vs_price_{period}.png')\n",
    "    plt.show()"
   ]
  },
  {
   "cell_type": "markdown",
   "metadata": {},
   "source": [
    "#### Scatter plot with x as net load and y as system energy price and colormap as month\n",
    "Demonstrates the relationship between net load and system energy price by month"
   ]
  },
  {
   "cell_type": "code",
   "execution_count": null,
   "metadata": {},
   "outputs": [],
   "source": [
    "plot_load_vs_price(period='month') # demonstrates relation of month to system price\n",
    "#plot_load_vs_price(period='hour') #cluttered graphs, not helpful to analysis\n",
    "#plot_load_vs_price(period='day_of_week') #cluttered graphs, not helpful to analysis"
   ]
  },
  {
   "cell_type": "markdown",
   "metadata": {},
   "source": [
    "#### Scatter plot with x as net load and y as system energy price and colormap as regional forescast_area\n",
    "Demonstrates the relationship between net load and system energy price by region"
   ]
  },
  {
   "cell_type": "code",
   "execution_count": 16,
   "metadata": {},
   "outputs": [],
   "source": [
    "def net_load_vs_price_by_area(df, area='Forecast Area'):\n",
    "    categories = df['forecast_area'].astype('category').cat.codes\n",
    "    cmap = plt.get_cmap('viridis')\n",
    "    \n",
    "    plt.figure(figsize=(10, 6))\n",
    "    plt.scatter(df[['net_load_mw']], df['system_energy_price_da'],alpha=0.3, c=categories, cmap=cmap)\n",
    "    plt.title(f'Net Load vs. System Energy Price by {area}')\n",
    "    plt.xlabel('Net Load (MW)')\n",
    "    plt.ylabel('System Energy Price (USD)')\n",
    "    plt.grid(True)\n",
    "    plt.tight_layout()\n",
    "    \n",
    "    #legend\n",
    "    unique_categories = np.unique(categories)\n",
    "    handles = [plt.Line2D([0], [0], marker='o', color='w', markerfacecolor=cmap(i / len(unique_categories)), markersize=10) for i in unique_categories]\n",
    "    labels = df['forecast_area'].astype('category').cat.categories\n",
    "    plt.legend(handles, labels, title=\"Forecast Area\",bbox_to_anchor=(1.005, 1), loc='upper left')\n",
    "    \n",
    "    plt.savefig(f'{plot_dir}net_load_vs_price_{area}.png')\n",
    "    plt.show()    "
   ]
  },
  {
   "cell_type": "code",
   "execution_count": null,
   "metadata": {},
   "outputs": [],
   "source": [
    "net_load_vs_price_by_area(merged_load_price)"
   ]
  },
  {
   "cell_type": "markdown",
   "metadata": {},
   "source": [
    "#### histogram by number of values with x as net load and y as system energy price"
   ]
  },
  {
   "cell_type": "code",
   "execution_count": 18,
   "metadata": {},
   "outputs": [],
   "source": [
    "def hist_load_price(df, bins=50):\n",
    "    plt.figure(figsize=(12, 6))\n",
    "    plt.hist(df['net_load_mw'], bins=bins, alpha=0.5, label='Net Load (MW)')\n",
    "    plt.hist(df['system_energy_price_da'], bins=bins, alpha=0.5, label='System Energy Price (USD)')\n",
    "    plt.title(f'Net Load vs. System Energy Price Frequency Distribution (bins={bins})')\n",
    "    plt.xlabel('Net Load (MW)')\n",
    "    plt.ylabel('Frequency')\n",
    "    plt.legend(['Net Load (MW)'])\n",
    "    plt.grid()\n",
    "    plt.tight_layout()\n",
    "    plt.show()\n",
    "    \n",
    "#hist_load_price(merged_load_price) # demonstrates relation of month to system price"
   ]
  },
  {
   "cell_type": "markdown",
   "metadata": {},
   "source": [
    "#### Line plot of average system energy price vs. net load "
   ]
  },
  {
   "cell_type": "code",
   "execution_count": 19,
   "metadata": {},
   "outputs": [],
   "source": [
    "def binned_avg_price_vs_load(df, bins=50):\n",
    "    df['net_load_bin'] = pd.cut(df['net_load_mw'], bins=bins, labels=False)\n",
    "    net_load_group = df.groupby('net_load_bin')['system_energy_price_da'].mean()\n",
    "\n",
    "    plt.figure(figsize=(12, 6))\n",
    "    plt.plot(net_load_group, marker='o')\n",
    "    plt.title(f'Net Load vs. System Energy Price Average (bins={bins})')\n",
    "    plt.xlabel('Net Load Bin (MW)')\n",
    "    xlabels = np.linspace(df['net_load_mw'].min(), df['net_load_mw'].max(), bins)\n",
    "    xlabels = ['' if i % 4 !=0 else f'{int(label/1000)} k' for i, label in enumerate(xlabels)]\n",
    "    plt.xticks(ticks=range(bins), labels=xlabels, rotation=60)\n",
    "    plt.ylabel('Average System Energy Price (USD)')\n",
    "    plt.grid()\n",
    "    plt.tight_layout()\n",
    "    plt.show()\n",
    "    \n",
    "\n",
    "#binned_avg_price_vs_load(merged_load_price, bins=50)"
   ]
  },
  {
   "cell_type": "markdown",
   "metadata": {},
   "source": [
    "#### Combined Load vs Avg Price line plot against load data frequency histogram\n",
    "\n",
    "**Demonstrates**: skewedness of the data leading to a poor correlation between net load and system energy price due to underrepresentation of higher net load values, and overrepresentation of lower net load values\n",
    "\n",
    "**Reason**: net load is pulled from 11 regional areas while price is only pulled from 1 node in a single region (node PJM-RTO in region RTO)\n",
    "\n",
    "**Outcome (linear/exponential fit)**: worse correlation between net load and system energy price, as the net load data is not representative of the entire system energy price data and will skew the regression line towards the lower net load values\n",
    "\n",
    "**Next step**: split data into 2 regions to better relate net load to system energy price based on use case."
   ]
  },
  {
   "cell_type": "code",
   "execution_count": null,
   "metadata": {},
   "outputs": [],
   "source": [
    "def combined_plot(df, bins=50, area=''):\n",
    "    fig, (ax_binned_avg_price_vs_load, ax_hist_load_price) = plt.subplots(2, gridspec_kw={'height_ratios': [2, 1]}, figsize=(12, 8))\n",
    "    df['net_load_bin'] = pd.cut(df['net_load_mw'], bins=bins, labels=False)\n",
    "    net_load_group = df.groupby('net_load_bin')['system_energy_price_da'].mean()\n",
    "\n",
    "    ax_binned_avg_price_vs_load.plot(net_load_group, marker='o')\n",
    "    fig.suptitle(f'Net Load vs. System Energy Price Average (bins= {bins})')\n",
    "    ax_binned_avg_price_vs_load.set_xlabel('Net Load Bin (MW)')\n",
    "    xlabels = np.linspace(df['net_load_mw'].min(), df['net_load_mw'].max(), bins)\n",
    "    xlabels = ['' if i % 4 !=0 else f'{int(label/1000)} k' for i, label in enumerate(xlabels)]\n",
    "    ax_binned_avg_price_vs_load.set_xticks(ticks=range(bins), labels=xlabels, rotation=60)\n",
    "    ax_binned_avg_price_vs_load.set_ylabel('Average System Energy Price (USD)')\n",
    "    ax_binned_avg_price_vs_load.grid()\n",
    "    \n",
    "    ax_hist_load_price.hist(df['net_load_mw'], bins=bins, alpha=0.5, label='Net Load (MW)')\n",
    "    ax_hist_load_price.hist(df['system_energy_price_da'], bins=bins, alpha=0.5, label='System Energy Price (USD)')\n",
    "    ax_hist_load_price.set_xlabel('Net Load (MW)')\n",
    "    ax_hist_load_price.set_ylabel('Frequency')\n",
    "    ax_hist_load_price.legend(['Net Load (MW)'])\n",
    "    ax_hist_load_price.grid()\n",
    "    plt.savefig(f\"{plot_dir}combined{f'_{area}' if area else ''}.png\")\n",
    "    plt.show()\n",
    "    \n",
    "combined_plot(merged_load_price, bins=50)"
   ]
  },
  {
   "cell_type": "code",
   "execution_count": null,
   "metadata": {},
   "outputs": [],
   "source": [
    "# testing PJM-RTO theory\n",
    "print('historical energy price nodes: ',df_day_ahead_energy_price['pnode_name'].value_counts(), '\\n')\n",
    "print('historical power load areas: ',df_historical_power_load['forecast_area'].value_counts(), '\\n')\n",
    "print('total power load values: ',df_historical_power_load['forecast_area'].count())\n",
    "\n",
    "mereg_load_price_copy = merged_load_price.copy()\n",
    "ELSE_merged_load_price = mereg_load_price_copy[mereg_load_price_copy['forecast_area'] != 'RTO']\n",
    "mereg_load_price_copy = merged_load_price.copy()\n",
    "JPMRTO_merged_load_price = mereg_load_price_copy[mereg_load_price_copy['forecast_area'] == 'RTO']"
   ]
  },
  {
   "cell_type": "code",
   "execution_count": null,
   "metadata": {},
   "outputs": [],
   "source": [
    "net_load_vs_price_by_area(ELSE_merged_load_price, area='NOT RTO')\n",
    "combined_plot(ELSE_merged_load_price, bins=50, area='NOT_RTO')"
   ]
  },
  {
   "cell_type": "code",
   "execution_count": null,
   "metadata": {},
   "outputs": [],
   "source": [
    "net_load_vs_price_by_area(JPMRTO_merged_load_price, area='RTO')\n",
    "combined_plot(JPMRTO_merged_load_price, bins=50, area='RTO')"
   ]
  },
  {
   "cell_type": "code",
   "execution_count": 24,
   "metadata": {},
   "outputs": [],
   "source": [
    "# binned_avg_price_vs_load(JPMRTO_merged_load_price, bins=50)"
   ]
  },
  {
   "cell_type": "code",
   "execution_count": 25,
   "metadata": {},
   "outputs": [],
   "source": [
    "#hist_load_price(JPMRTO_merged_load_price, bins=50)"
   ]
  },
  {
   "cell_type": "code",
   "execution_count": null,
   "metadata": {},
   "outputs": [],
   "source": [
    "X = merged_load_price['net_load_mw']\n",
    "y = merged_load_price['system_energy_price_da']\n",
    "\n",
    "coeffs = np.polyfit(X, y, 1)\n",
    "y_fit = np.polyval(coeffs, X)\n",
    "\n",
    "plt.figure(figsize=(10, 6))\n",
    "plt.scatter(X, y, alpha=0.3, label='Data')\n",
    "plt.plot(X, y_fit, color='red', linewidth=2,label=f'Fit: y = {coeffs[0]:.4g}x + {coeffs[1]:.4g}')\n",
    "plt.title('Net Load vs. System Energy Price')\n",
    "plt.xlabel('Net Load (MW)')\n",
    "plt.ylabel('System Energy Price (USD)')\n",
    "plt.grid()\n",
    "plt.legend(loc='upper left')\n",
    "plt.tight_layout()\n",
    "plt.show()\n",
    "\n",
    "print(f\"Linear fit equation: y = {coeffs[0]:.4g} + {coeffs[1]:.4g}\")"
   ]
  },
  {
   "cell_type": "code",
   "execution_count": null,
   "metadata": {},
   "outputs": [],
   "source": [
    "X = merged_load_price['net_load_mw']\n",
    "y = merged_load_price['system_energy_price_da']\n",
    "\n",
    "polynomial_degree = range(1, 7)\n",
    "polynomial_y_fits = []\n",
    "r2_scores = []\n",
    "rmse_scores = []\n",
    "score_relative_to_baseline = []\n",
    "\n",
    "for degree in polynomial_degree:\n",
    "    coeffs = np.polyfit(X, y, degree)\n",
    "    y_fit = np.polyval(coeffs, X)\n",
    "    polynomial_y_fits.append(y_fit)\n",
    "    r2_scores.append(np.corrcoef(y, y_fit)[0, 1] ** 2)\n",
    "    rmse = np.sqrt(np.mean((y - y_fit) ** 2))\n",
    "    rmse_scores.append(rmse)\n",
    "    score_relative_to_baseline.append(1 - rmse / rmse_scores[0])\n",
    "\n",
    "# best degree by RMSE\n",
    "best_degree = polynomial_degree[np.argmax(r2_scores)]\n",
    "print(f'Best Polynomial Degree (lowest R^2): {best_degree}')\n",
    "\n",
    "\n",
    "degree_scores = pd.DataFrame({'Degree': polynomial_degree, \n",
    "                              'R^2 Score': r2_scores, \n",
    "                              'RMSE': rmse_scores,\n",
    "                              'Score': score_relative_to_baseline})\n",
    "degree_scores"
   ]
  },
  {
   "cell_type": "markdown",
   "metadata": {},
   "source": [
    "**RMSE**: how far predicted energy prices are from the actual values on average in USD.\n",
    "\n",
    "**R^2**: secondary check of how much variability in energy prices.\n",
    "\n",
    "**Score**: relative to the baseline model (degree=1) in terms of RMSE."
   ]
  }
 ],
 "metadata": {
  "kernelspec": {
   "display_name": "base",
   "language": "python",
   "name": "python3"
  },
  "language_info": {
   "codemirror_mode": {
    "name": "ipython",
    "version": 3
   },
   "file_extension": ".py",
   "mimetype": "text/x-python",
   "name": "python",
   "nbconvert_exporter": "python",
   "pygments_lexer": "ipython3",
   "version": "3.10.9"
  },
  "orig_nbformat": 4
 },
 "nbformat": 4,
 "nbformat_minor": 2
}
